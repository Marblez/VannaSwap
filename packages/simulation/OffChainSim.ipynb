{
 "cells": [
  {
   "cell_type": "code",
   "execution_count": 68,
   "id": "2c1e9236",
   "metadata": {},
   "outputs": [],
   "source": [
    "import asyncio\n",
    "from tardis_client import TardisClient, Channel\n",
    "import pandas as pd\n",
    "import numpy as np\n",
    "import grpc\n",
    "import sys\n",
    "import inference_pb2_grpc as pb2_grpc\n",
    "import inference_pb2 as pb2\n",
    "import matplotlib.pyplot as plt"
   ]
  },
  {
   "cell_type": "code",
   "execution_count": 51,
   "id": "9b6580a9",
   "metadata": {},
   "outputs": [],
   "source": [
    "class TestClient(object):\n",
    "    \"\"\"\n",
    "    Client for testing inference gRPC\n",
    "    \"\"\"\n",
    "\n",
    "    def __init__(self):\n",
    "        self.host = '3.139.238.241'\n",
    "        #self.host = 'localhost'\n",
    "        self.server_port = 5125\n",
    "\n",
    "        # instantiate a channel\n",
    "        self.channel = grpc.insecure_channel(\n",
    "            '{}:{}'.format(self.host, self.server_port))\n",
    "\n",
    "        # bind the client and the server\n",
    "        self.stub = pb2_grpc.InferenceStub(self.channel)\n",
    "\n",
    "    def send(self, tx, modelHash, modelInput):\n",
    "        \"\"\"\n",
    "        Client function to call the rpc for inference\n",
    "        \"\"\"\n",
    "        message = pb2.InferenceParameters(tx=tx, modelHash=modelHash, modelInput = modelInput)\n",
    "        return self.stub.RunInference(message)\n",
    "\n",
    "def inference(vol5b, vol10b, vol20b):\n",
    "    client = TestClient()\n",
    "    result = client.send(tx = \"0x123\", modelHash=\"QmXQpupTphRTeXJMEz3BCt9YUF6kikcqExxPdcVoL1BBhy\", modelInput=str([[vol5b, vol10b, vol20b]]))\n",
    "    return float(result.value)"
   ]
  },
  {
   "cell_type": "code",
   "execution_count": 52,
   "id": "9bc08a36",
   "metadata": {},
   "outputs": [],
   "source": [
    "async def kraken(symbol, start_date, end_date):\n",
    "    data = []\n",
    "    tardis_client = TardisClient(api_key='TD.EGbmz1ZjK48X8Umz.xA3stUptkohr9Bs.kkKNJo2yL78bZVP.YJRJl3xrqDmyvJE.ymLsIiFZJ-tTtLx.s2Xh')\n",
    "\n",
    "    messages = tardis_client.replay(\n",
    "        exchange=\"kraken\",\n",
    "        from_date=start_date,\n",
    "        to_date=end_date,\n",
    "        filters=[Channel(name=\"spread\", symbols=[symbol])],\n",
    "    )\n",
    "    \n",
    "    async for local_timestamp, message in messages:\n",
    "        timestamp = float(message[1][2])\n",
    "        bid = float(message[1][0])\n",
    "        ask = float(message[1][1])\n",
    "        mid = (bid + ask) / 2\n",
    "        spread = abs(ask-bid) / mid\n",
    "        data.append([timestamp, mid, spread])\n",
    "    return data\n",
    "\n",
    "data = sorted(await kraken(\"ETH/USDT\", \"2022-11-10\", \"2022-11-11\"), key=lambda x: x[0])"
   ]
  },
  {
   "cell_type": "code",
   "execution_count": 53,
   "id": "ec9ffaa3",
   "metadata": {},
   "outputs": [],
   "source": [
    "raw_df = pd.DataFrame(data, columns =['timestamp', 'price', 'spread'], dtype = float).sort_values(by=['timestamp'])    "
   ]
  },
  {
   "cell_type": "code",
   "execution_count": 54,
   "id": "f38ecc6f",
   "metadata": {},
   "outputs": [],
   "source": [
    "i = 1\n",
    "price_sum = data[0][1]\n",
    "spread_sum = data[0][2]\n",
    "count = 1\n",
    "timestamp = data[0][0]\n",
    "processed_data = []\n",
    "while i < len(data):\n",
    "    if (data[i][0] - timestamp > 12):\n",
    "        processed_data.append([timestamp, price_sum/count, spread_sum/count])\n",
    "        timestamp = data[i][0]\n",
    "        price_sum = data[i][1]\n",
    "        spread_sum = data[i][2]\n",
    "        count = 1\n",
    "    else:\n",
    "        count += 1\n",
    "        price_sum += data[i][1]\n",
    "        spread_sum += data[i][2]\n",
    "    i += 1"
   ]
  },
  {
   "cell_type": "code",
   "execution_count": 133,
   "id": "58c22f69",
   "metadata": {},
   "outputs": [],
   "source": [
    "df = pd.DataFrame(processed_data, columns =['timestamp', 'price', 'spread'], dtype = float).sort_values(by=['timestamp'])    "
   ]
  },
  {
   "cell_type": "code",
   "execution_count": 134,
   "id": "6cdc17ba",
   "metadata": {},
   "outputs": [],
   "source": [
    "windows = [5, 10, 20]\n",
    "for w in windows:\n",
    "    df['vol_' + str(w) + 'b'] = df['price'].rolling(w).std() / df['price']\n",
    "    df['spread_' + str(w) + 'b'] = df['spread'].rolling(w).mean()\n",
    "df = df.dropna()"
   ]
  },
  {
   "cell_type": "code",
   "execution_count": 135,
   "id": "d1e63cb0",
   "metadata": {},
   "outputs": [
    {
     "data": {
      "text/html": [
       "<div>\n",
       "<style scoped>\n",
       "    .dataframe tbody tr th:only-of-type {\n",
       "        vertical-align: middle;\n",
       "    }\n",
       "\n",
       "    .dataframe tbody tr th {\n",
       "        vertical-align: top;\n",
       "    }\n",
       "\n",
       "    .dataframe thead th {\n",
       "        text-align: right;\n",
       "    }\n",
       "</style>\n",
       "<table border=\"1\" class=\"dataframe\">\n",
       "  <thead>\n",
       "    <tr style=\"text-align: right;\">\n",
       "      <th></th>\n",
       "      <th>timestamp</th>\n",
       "      <th>price</th>\n",
       "      <th>spread</th>\n",
       "      <th>vol_5b</th>\n",
       "      <th>spread_5b</th>\n",
       "      <th>vol_10b</th>\n",
       "      <th>spread_10b</th>\n",
       "      <th>vol_20b</th>\n",
       "      <th>spread_20b</th>\n",
       "    </tr>\n",
       "  </thead>\n",
       "  <tbody>\n",
       "    <tr>\n",
       "      <th>19</th>\n",
       "      <td>1.668039e+09</td>\n",
       "      <td>1091.616462</td>\n",
       "      <td>0.002661</td>\n",
       "      <td>0.002340</td>\n",
       "      <td>0.001889</td>\n",
       "      <td>0.003476</td>\n",
       "      <td>0.001557</td>\n",
       "      <td>0.003613</td>\n",
       "      <td>0.001414</td>\n",
       "    </tr>\n",
       "    <tr>\n",
       "      <th>20</th>\n",
       "      <td>1.668039e+09</td>\n",
       "      <td>1090.978655</td>\n",
       "      <td>0.002566</td>\n",
       "      <td>0.002264</td>\n",
       "      <td>0.002074</td>\n",
       "      <td>0.003077</td>\n",
       "      <td>0.001701</td>\n",
       "      <td>0.003552</td>\n",
       "      <td>0.001484</td>\n",
       "    </tr>\n",
       "    <tr>\n",
       "      <th>21</th>\n",
       "      <td>1.668039e+09</td>\n",
       "      <td>1089.967889</td>\n",
       "      <td>0.002060</td>\n",
       "      <td>0.002184</td>\n",
       "      <td>0.002116</td>\n",
       "      <td>0.002288</td>\n",
       "      <td>0.001775</td>\n",
       "      <td>0.003623</td>\n",
       "      <td>0.001537</td>\n",
       "    </tr>\n",
       "    <tr>\n",
       "      <th>22</th>\n",
       "      <td>1.668039e+09</td>\n",
       "      <td>1092.242762</td>\n",
       "      <td>0.001611</td>\n",
       "      <td>0.002149</td>\n",
       "      <td>0.002126</td>\n",
       "      <td>0.001935</td>\n",
       "      <td>0.001817</td>\n",
       "      <td>0.003602</td>\n",
       "      <td>0.001551</td>\n",
       "    </tr>\n",
       "    <tr>\n",
       "      <th>23</th>\n",
       "      <td>1.668039e+09</td>\n",
       "      <td>1092.376680</td>\n",
       "      <td>0.002861</td>\n",
       "      <td>0.000908</td>\n",
       "      <td>0.002352</td>\n",
       "      <td>0.001949</td>\n",
       "      <td>0.002001</td>\n",
       "      <td>0.003590</td>\n",
       "      <td>0.001622</td>\n",
       "    </tr>\n",
       "  </tbody>\n",
       "</table>\n",
       "</div>"
      ],
      "text/plain": [
       "       timestamp        price    spread    vol_5b  spread_5b   vol_10b  \\\n",
       "19  1.668039e+09  1091.616462  0.002661  0.002340   0.001889  0.003476   \n",
       "20  1.668039e+09  1090.978655  0.002566  0.002264   0.002074  0.003077   \n",
       "21  1.668039e+09  1089.967889  0.002060  0.002184   0.002116  0.002288   \n",
       "22  1.668039e+09  1092.242762  0.001611  0.002149   0.002126  0.001935   \n",
       "23  1.668039e+09  1092.376680  0.002861  0.000908   0.002352  0.001949   \n",
       "\n",
       "    spread_10b   vol_20b  spread_20b  \n",
       "19    0.001557  0.003613    0.001414  \n",
       "20    0.001701  0.003552    0.001484  \n",
       "21    0.001775  0.003623    0.001537  \n",
       "22    0.001817  0.003602    0.001551  \n",
       "23    0.002001  0.003590    0.001622  "
      ]
     },
     "execution_count": 135,
     "metadata": {},
     "output_type": "execute_result"
    }
   ],
   "source": [
    "df.head()"
   ]
  },
  {
   "cell_type": "code",
   "execution_count": 109,
   "id": "1a067633",
   "metadata": {},
   "outputs": [],
   "source": [
    "class eth_usdc:\n",
    "    def __init__(self, eth, usdc):\n",
    "        self.profit = 0\n",
    "        self.eth = eth\n",
    "        self.usdc = usdc\n",
    "        self.product = eth * usdc\n",
    "    \n",
    "    def trade(self, direction, eth, price, fee):\n",
    "        self.profit += fee * (eth * price)\n",
    "        eth = eth * (1-fee)\n",
    "        if direction == 'buy':\n",
    "            return self.buy(eth, price)\n",
    "        else:\n",
    "            return self.sell(eth, price)\n",
    "    \n",
    "    # Returns amount of ETH in USD terms\n",
    "    def buy(self, eth, price):\n",
    "        self.eth -= eth\n",
    "        diff = (self.product / self.eth) - self.usdc \n",
    "        self.usdc = self.product / self.eth\n",
    "        return diff * price\n",
    "    \n",
    "    # Returns amount of USDC received\n",
    "    def sell(self, eth, price):\n",
    "        self.eth += eth\n",
    "        diff = (self.eth - (self.product / self.usdc)) * price\n",
    "        self.usdc = self.product / self.eth\n",
    "        return diff\n",
    "\n",
    "    def balance(self, price):\n",
    "        return self.profit + self.usdc + (price * self.eth)\n",
    "    \n",
    "    def profitable(self, eth, usdc, price, fee):\n",
    "        return ((price*eth) - usdc) / (2*price)"
   ]
  },
  {
   "cell_type": "code",
   "execution_count": 114,
   "id": "ac3c6201",
   "metadata": {},
   "outputs": [
    {
     "name": "stderr",
     "output_type": "stream",
     "text": [
      "<ipython-input-114-51e07a9fa026>:4: FutureWarning: iteritems is deprecated and will be removed in a future version. Use .items instead.\n",
      "  for date, row in df.T.iteritems():\n"
     ]
    }
   ],
   "source": [
    "history = {\"fee\": [], \"eth\": [], \"usdc\": [], \"price\": [], \"balance\": []}\n",
    "trader_profit = 0\n",
    "pool = eth_usdc(1000000, 1000000 * df.iloc[0,1])\n",
    "for date, row in df.T.iteritems():\n",
    "    fee = inference(row['vol_5b'], row['vol_10b'], row['vol_20b'])\n",
    "    history['fee'].append(fee)\n",
    "    history['eth'].append(pool.eth)\n",
    "    history['usdc'].append(pool.usdc)\n",
    "    history['price'].append(row['price'])\n",
    "    history['balance'].append(pool.balance(row['price']))\n",
    "    amt = pool.profitable(eth, usdc, row['price'], fee) != 0\n",
    "    if (amt > 0):\n",
    "        trader_profit += pool.trade('buy', abs(amt), row['price'], fee)\n",
    "    elif (amt < 0):\n",
    "        trader_profit += pool.trade('sell', abs(amt), row['price'], fee)"
   ]
  },
  {
   "cell_type": "code",
   "execution_count": 146,
   "id": "d75dc899",
   "metadata": {},
   "outputs": [
    {
     "name": "stderr",
     "output_type": "stream",
     "text": [
      "<ipython-input-146-2943bb758c02>:4: FutureWarning: iteritems is deprecated and will be removed in a future version. Use .items instead.\n",
      "  for date, row in df.T.iteritems():\n"
     ]
    }
   ],
   "source": [
    "history2 = {\"fee\": [], \"eth\": [], \"usdc\": [], \"price\": [], \"balance\": []}\n",
    "trader_profit = 0\n",
    "pool = eth_usdc(1000000, 1000000 * df.iloc[0,1])\n",
    "for date, row in df.T.iteritems():\n",
    "    fee = 0.001\n",
    "    history2['fee'].append(fee)\n",
    "    history2['eth'].append(pool.eth)\n",
    "    history2['usdc'].append(pool.usdc)\n",
    "    history2['price'].append(row['price'])\n",
    "    history2['balance'].append(pool.balance(row['price']))\n",
    "    amt = pool.profitable(eth, usdc, row['price'], fee) != 0\n",
    "    if (amt > 0):\n",
    "        trader_profit += pool.trade('buy', abs(amt), row['price'], fee)\n",
    "    elif (amt < 0):\n",
    "        trader_profit += pool.trade('sell', abs(amt), row['price'], fee)"
   ]
  },
  {
   "cell_type": "code",
   "execution_count": 147,
   "id": "d73952d0",
   "metadata": {},
   "outputs": [],
   "source": [
    "results = pd.DataFrame(list(zip(history['balance'], history2['balance'])),columns =['Dynamic', 'Static'])"
   ]
  },
  {
   "cell_type": "code",
   "execution_count": 148,
   "id": "ff9052bc",
   "metadata": {},
   "outputs": [],
   "source": [
    "results['Delta'] = results['Dynamic'] - results['Static']"
   ]
  },
  {
   "cell_type": "code",
   "execution_count": 149,
   "id": "7fb6c16c",
   "metadata": {},
   "outputs": [
    {
     "data": {
      "text/plain": [
       "<AxesSubplot:>"
      ]
     },
     "execution_count": 149,
     "metadata": {},
     "output_type": "execute_result"
    },
    {
     "data": {
      "image/png": "[encoded data removed]",
      "text/plain": [
       "<Figure size 432x288 with 1 Axes>"
      ]
     },
     "metadata": {
      "needs_background": "light"
     },
     "output_type": "display_data"
    }
   ],
   "source": [
    "results['Delta'].plot()"
   ]
  },
  {
   "cell_type": "code",
   "execution_count": null,
   "id": "454448e5",
   "metadata": {},
   "outputs": [],
   "source": []
  }
 ],
 "metadata": {
  "kernelspec": {
   "display_name": "Python 3",
   "language": "python",
   "name": "python3"
  },
  "language_info": {
   "codemirror_mode": {
    "name": "ipython",
    "version": 3
   },
   "file_extension": ".py",
   "mimetype": "text/x-python",
   "name": "python",
   "nbconvert_exporter": "python",
   "pygments_lexer": "ipython3",
   "version": "3.8.2"
  }
 },
 "nbformat": 4,
 "nbformat_minor": 5
}
