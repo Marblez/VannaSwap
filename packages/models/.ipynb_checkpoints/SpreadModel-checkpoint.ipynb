{
 "cells": [
  {
   "cell_type": "code",
   "execution_count": 1,
   "id": "06d8f55e",
   "metadata": {},
   "outputs": [],
   "source": [
    "import xgboost as xgb\n",
    "import numpy as np\n",
    "import matplotlib.pyplot as plt\n",
    "import asyncio\n",
    "from tardis_client import TardisClient, Channel\n",
    "import csv"
   ]
  },
  {
   "cell_type": "code",
   "execution_count": 1,
   "id": "3cb4270d",
   "metadata": {},
   "outputs": [],
   "source": [
    "import asyncio\n",
    "import csv\n",
    "from tardis_client import TardisClient, Channel\n",
    "\n",
    "spreads = []\n",
    "prices = []\n",
    "async def kraken(symbol, start_date, end_date):\n",
    "    tardis_client = TardisClient(api_key='TD.EGbmz1ZjK48X8Umz.xA3stUptkohr9Bs.kkKNJo2yL78bZVP.YJRJl3xrqDmyvJE.ymLsIiFZJ-tTtLx.s2Xh')\n",
    "\n",
    "    messages = tardis_client.replay(\n",
    "        exchange=\"kraken\",\n",
    "        from_date=start_date,\n",
    "        to_date=end_date,\n",
    "        filters=[Channel(name=\"spread\", symbols=[symbol])],\n",
    "    )\n",
    "    \n",
    "    async for local_timestamp, message in messages:\n",
    "        bid = float(message[1][0])\n",
    "        ask = float(message[1][1])\n",
    "        mid = (bid + ask) / 2\n",
    "        spread = abs(ask-bid)\n",
    "        prices.append(mid)\n",
    "        spreads.append(spread)\n",
    "\n",
    "await kraken(\"ETH/USDT\", \"2022-11-10\", \"2022-11-11\")\n"
   ]
  },
  {
   "cell_type": "code",
   "execution_count": null,
   "id": "e22e3886",
   "metadata": {},
   "outputs": [],
   "source": []
  }
 ],
 "metadata": {
  "kernelspec": {
   "display_name": "Python 3",
   "language": "python",
   "name": "python3"
  },
  "language_info": {
   "codemirror_mode": {
    "name": "ipython",
    "version": 3
   },
   "file_extension": ".py",
   "mimetype": "text/x-python",
   "name": "python",
   "nbconvert_exporter": "python",
   "pygments_lexer": "ipython3",
   "version": "3.8.2"
  }
 },
 "nbformat": 4,
 "nbformat_minor": 5
}
